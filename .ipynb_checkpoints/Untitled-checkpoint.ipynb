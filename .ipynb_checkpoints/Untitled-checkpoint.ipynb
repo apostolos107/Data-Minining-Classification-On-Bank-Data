{
 "cells": [
  {
   "cell_type": "code",
   "execution_count": 77,
   "metadata": {
    "collapsed": false
   },
   "outputs": [],
   "source": [
    "import pandas as pd\n",
    "dataset=pd.read_csv(\"datasets/train.tsv\",delimiter=\"\\t\")"
   ]
  },
  {
   "cell_type": "code",
   "execution_count": 78,
   "metadata": {
    "collapsed": false
   },
   "outputs": [],
   "source": [
    "from sklearn.feature_extraction import DictVectorizer\n",
    "\n",
    "categorical_cols = [  'Attribute1' ]\n",
    "cat_dict = dataset[ categorical_cols ].to_dict( orient = 'records' )\n"
   ]
  },
  {
   "cell_type": "code",
   "execution_count": 89,
   "metadata": {
    "collapsed": false,
    "scrolled": true
   },
   "outputs": [
    {
     "name": "stdout",
     "output_type": "stream",
     "text": [
      "[[ 1.  0.  0.  0.]\n",
      " [ 0.  1.  0.  0.]\n",
      " [ 0.  0.  0.  1.]\n",
      " ..., \n",
      " [ 0.  0.  0.  1.]\n",
      " [ 0.  0.  0.  1.]\n",
      " [ 0.  1.  0.  0.]]\n"
     ]
    }
   ],
   "source": [
    "# print(cat_dict)\n",
    "from sklearn.feature_extraction import DictVectorizer as DV\n",
    "\n",
    "vectorizer = DV( sparse = False )\n",
    "attr_1_fit=vectorizer.fit( cat_dict )\n",
    "data_after_dict = attr_1_fit.fit_transform( cat_dict )\n",
    "# vec_x_cat_test = vectorizer.transform( cat_dict ) \n",
    "print(data_after_dict)\n"
   ]
  },
  {
   "cell_type": "code",
   "execution_count": 119,
   "metadata": {
    "collapsed": false
   },
   "outputs": [
    {
     "ename": "TypeError",
     "evalue": "only integer scalar arrays can be converted to a scalar index",
     "output_type": "error",
     "traceback": [
      "\u001b[0;31m---------------------------------------------------------------------------\u001b[0m",
      "\u001b[0;31mTypeError\u001b[0m                                 Traceback (most recent call last)",
      "\u001b[0;32m<ipython-input-119-3d588ae30f91>\u001b[0m in \u001b[0;36m<module>\u001b[0;34m()\u001b[0m\n\u001b[1;32m     19\u001b[0m \u001b[0;34m\u001b[0m\u001b[0m\n\u001b[1;32m     20\u001b[0m \u001b[0;31m# print(for_list)\u001b[0m\u001b[0;34m\u001b[0m\u001b[0;34m\u001b[0m\u001b[0m\n\u001b[0;32m---> 21\u001b[0;31m \u001b[0mplt\u001b[0m\u001b[0;34m.\u001b[0m\u001b[0mhist\u001b[0m\u001b[0;34m(\u001b[0m\u001b[0mfor_list\u001b[0m\u001b[0;34m[\u001b[0m\u001b[0mgood_things_indexes\u001b[0m\u001b[0;34m.\u001b[0m\u001b[0mto_native_types\u001b[0m\u001b[0;34m(\u001b[0m\u001b[0;34m)\u001b[0m\u001b[0;34m]\u001b[0m\u001b[0;34m)\u001b[0m\u001b[0;34m\u001b[0m\u001b[0m\n\u001b[0m\u001b[1;32m     22\u001b[0m \u001b[0;31m# data_after_dict.plot.hist()\u001b[0m\u001b[0;34m\u001b[0m\u001b[0;34m\u001b[0m\u001b[0m\n\u001b[1;32m     23\u001b[0m \u001b[0mplt\u001b[0m\u001b[0;34m.\u001b[0m\u001b[0mxlabel\u001b[0m\u001b[0;34m(\u001b[0m\u001b[0matr_name\u001b[0m\u001b[0;34m)\u001b[0m\u001b[0;34m\u001b[0m\u001b[0m\n",
      "\u001b[0;31mTypeError\u001b[0m: only integer scalar arrays can be converted to a scalar index"
     ]
    }
   ],
   "source": [
    "import matplotlib.mlab as mlab\n",
    "import matplotlib.pyplot as plt\n",
    "\n",
    "def get_it_bomb(my_list):\n",
    "    result=[]\n",
    "    for a_elem in my_list:\n",
    "        for j in range(0,4):\n",
    "            if(a_elem[j]==1):\n",
    "                result.insert(0,j)\n",
    "                break\n",
    "    return result\n",
    "atr_name=\"Attribute1\";\n",
    "good_things_indexes=dataset[dataset[\"Label\"]==1].index\n",
    "\n",
    "# print( data_after_dict[good_things_indexes] )\n",
    "# dataset.plt.hist()\n",
    "for_list=get_it_bomb(data_after_dict)\n",
    "# plt.hist(for_fist[good_things_indexes],facecolor='green')\n",
    "\n",
    "# print(for_list)\n",
    "plt.hist(for_list[good_things_indexes])\n",
    "# data_after_dict.plot.hist()\n",
    "plt.xlabel(atr_name)\n",
    "plt.ylabel('Num of OK')\n",
    "plt.show()"
   ]
  },
  {
   "cell_type": "code",
   "execution_count": 56,
   "metadata": {
    "collapsed": false
   },
   "outputs": [
    {
     "name": "stdout",
     "output_type": "stream",
     "text": [
      "0    A11\n",
      "1    A12\n",
      "2    A13\n",
      "3    A14\n",
      "dtype: object\n",
      "0      A11\n",
      "1      A12\n",
      "2      A14\n",
      "3      A11\n",
      "4      A11\n",
      "5      A14\n",
      "6      A14\n",
      "7      A12\n",
      "8      A14\n",
      "9      A12\n",
      "10     A12\n",
      "11     A11\n",
      "12     A12\n",
      "13     A11\n",
      "14     A11\n",
      "15     A11\n",
      "16     A14\n",
      "17     A11\n",
      "18     A12\n",
      "19     A14\n",
      "20     A14\n",
      "21     A11\n",
      "22     A11\n",
      "23     A12\n",
      "24     A14\n",
      "25     A11\n",
      "26     A14\n",
      "27     A13\n",
      "28     A12\n",
      "29     A11\n",
      "      ... \n",
      "770    A11\n",
      "771    A11\n",
      "772    A14\n",
      "773    A14\n",
      "774    A13\n",
      "775    A11\n",
      "776    A14\n",
      "777    A11\n",
      "778    A14\n",
      "779    A12\n",
      "780    A12\n",
      "781    A14\n",
      "782    A12\n",
      "783    A12\n",
      "784    A12\n",
      "785    A12\n",
      "786    A14\n",
      "787    A14\n",
      "788    A12\n",
      "789    A11\n",
      "790    A12\n",
      "791    A14\n",
      "792    A14\n",
      "793    A13\n",
      "794    A14\n",
      "795    A14\n",
      "796    A11\n",
      "797    A14\n",
      "798    A14\n",
      "799    A12\n",
      "Name: Attribute1, dtype: object\n"
     ]
    }
   ],
   "source": [
    "#print(\"Encoding : \",integer_map1)\n",
    "All_Good=dataset[dataset[\"Label\"]==1]\n",
    "All_Bad=dataset[dataset[\"Label\"]==2]\n",
    "cur_atr=\"Attribute1\"\n",
    "\n",
    "all_atr_series=dict()\n",
    "all_atr_series[cur_atr]=pd.Series([\"A11\",\"A12\",\"A13\",\"A14\"])\n",
    "all_atr_series[cur_atr]#this the object like map\n",
    "\n",
    "\n",
    "print(dataset_num)\n",
    "# All_cur_atr=dict()\n",
    "# All_cur_atr[\"Good\"]=pd.Series(All_Good[cur_atr],dtype=\"category\")\n",
    "# #print (All_cur_atr[\"Good\"])\n",
    "\n",
    "\n",
    "# #df = pd.DataFrame({'Good':All_Good[cur_atr],'Bad':All_Bad[cur_atr]},columns=['Good','Bad'])\n",
    "# df = pd.DataFrame({'Good':All_Good[cur_atr]},columns=['Good'])\n",
    "# df[\"Good\"] = dataset[cur_atr].astype(\"category\")\n",
    "# print (df)\n",
    "\n",
    "\n",
    "\n",
    "#################################\n",
    "\n",
    "\n",
    "# df.plot.hist()\n",
    "# plt.title(\"Histogram for Attribute1\")\n",
    "# plt.ylabel('Status of existing checking account')\n",
    "# plt.xlabel('A13              A11                 A12                 A14')\n",
    "# plt.show()\n"
   ]
  },
  {
   "cell_type": "code",
   "execution_count": null,
   "metadata": {
    "collapsed": true
   },
   "outputs": [],
   "source": []
  }
 ],
 "metadata": {
  "kernelspec": {
   "display_name": "Python 3",
   "language": "python",
   "name": "python3"
  },
  "language_info": {
   "codemirror_mode": {
    "name": "ipython",
    "version": 3
   },
   "file_extension": ".py",
   "mimetype": "text/x-python",
   "name": "python",
   "nbconvert_exporter": "python",
   "pygments_lexer": "ipython3",
   "version": "3.6.1"
  }
 },
 "nbformat": 4,
 "nbformat_minor": 2
}
