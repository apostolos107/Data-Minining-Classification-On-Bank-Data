{
 "cells": [
  {
   "cell_type": "code",
   "execution_count": 24,
   "metadata": {
    "collapsed": false
   },
   "outputs": [],
   "source": [
    "import pandas as pd\n",
    "df=pd.read_csv(\"datasets/train.tsv\",delimiter=\"\\t\")"
   ]
  },
  {
   "cell_type": "code",
   "execution_count": 79,
   "metadata": {
    "collapsed": false
   },
   "outputs": [],
   "source": [
    "df_good=df[df[\"Label\"]==1]\n",
    "df_bad=df[df[\"Label\"]==2]\n",
    "\n",
    "cat_cat=[\"Attribute1\"]\n",
    "for a_cat in cat_cat:\n",
    "    cur_df=pd.DataFrame( {\"Good\":df_good[a_cat],\"Bad\":df_bad[a_cat]},columns=[\"Good\",\"Bad\"] )\n",
    "    plt_good=cur_df.Good.value_counts().plot\n",
    "#     plt_good=df_good[a_cat].value_counts().plot(kind=\"bar\")\n",
    "#     plt_bad=df_bad[a_cat].value_counts().plot(kind=\"bar\")\n",
    "#     cur_df[a_cat].value_counts().plot.bar\n",
    "    plt.show()"
   ]
  },
  {
   "cell_type": "code",
   "execution_count": null,
   "metadata": {
    "collapsed": true
   },
   "outputs": [],
   "source": []
  }
 ],
 "metadata": {
  "kernelspec": {
   "display_name": "Python 3",
   "language": "python",
   "name": "python3"
  },
  "language_info": {
   "codemirror_mode": {
    "name": "ipython",
    "version": 3
   },
   "file_extension": ".py",
   "mimetype": "text/x-python",
   "name": "python",
   "nbconvert_exporter": "python",
   "pygments_lexer": "ipython3",
   "version": "3.6.1"
  }
 },
 "nbformat": 4,
 "nbformat_minor": 2
}
